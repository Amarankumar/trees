{
 "cells": [
  {
   "cell_type": "markdown",
   "metadata": {},
   "source": [
    "1.Implement Binary tree"
   ]
  },
  {
   "cell_type": "code",
   "execution_count": 5,
   "metadata": {},
   "outputs": [
    {
     "name": "stdout",
     "output_type": "stream",
     "text": [
      "Inorder Traversal:\n",
      "2 3 4 5 7 8 9 "
     ]
    }
   ],
   "source": [
    "class TreeNode:\n",
    "    def __init__(self, key):\n",
    "        self.key = key\n",
    "        self.left = None\n",
    "        self.right = None\n",
    "\n",
    "class BinaryTree:\n",
    "    def __init__(self):\n",
    "        self.root = None\n",
    "\n",
    "    def insert(self, key):\n",
    "       \n",
    "        if self.root is None:\n",
    "            self.root = TreeNode(key)\n",
    "        else:\n",
    "            self._insert_recursive(self.root, key)\n",
    "\n",
    "    def _insert_recursive(self, node, key):\n",
    "        if key < node.key:\n",
    "            if node.left is None:\n",
    "                node.left = TreeNode(key)\n",
    "            else:\n",
    "                self._insert_recursive(node.left, key)\n",
    "        else:\n",
    "            if node.right is None:\n",
    "                node.right = TreeNode(key)\n",
    "            else:\n",
    "                self._insert_recursive(node.right, key)\n",
    "\n",
    "    def inorder_traversal(self):\n",
    "    \n",
    "        self._inorder_recursive(self.root)\n",
    "\n",
    "    def _inorder_recursive(self, node):\n",
    "        if node is not None:\n",
    "            self._inorder_recursive(node.left)\n",
    "            print(node.key, end=\" \")\n",
    "            self._inorder_recursive(node.right)\n",
    "\n",
    "if __name__ == \"__main__\":\n",
    "   \n",
    "    bt = BinaryTree()\n",
    "    bt.insert(5)\n",
    "    bt.insert(3)\n",
    "    bt.insert(8)\n",
    "    bt.insert(2)\n",
    "    bt.insert(4)\n",
    "    bt.insert(7)\n",
    "    bt.insert(9)\n",
    "    print(\"Inorder Traversal:\")\n",
    "    bt.inorder_traversal()\n"
   ]
  },
  {
   "cell_type": "markdown",
   "metadata": {},
   "source": [
    "2.Find height of a given tree"
   ]
  },
  {
   "cell_type": "code",
   "execution_count": 7,
   "metadata": {},
   "outputs": [
    {
     "name": "stdout",
     "output_type": "stream",
     "text": [
      "Height of the tree: 2\n"
     ]
    }
   ],
   "source": [
    "class TreeNode:\n",
    "    def __init__(self, key):\n",
    "        self.key = key\n",
    "        self.left = None\n",
    "        self.right = None\n",
    "\n",
    "def height_of_tree(root):\n",
    "    \n",
    "    if root is None:\n",
    "        return -1  \n",
    "\n",
    "    left_height = height_of_tree(root.left)\n",
    "    right_height = height_of_tree(root.right)\n",
    "\n",
    "    return max(left_height, right_height) + 1\n",
    "\n",
    "\n",
    "if __name__ == \"__main__\":\n",
    "  \n",
    "    root = TreeNode(5)\n",
    "    root.left = TreeNode(3)\n",
    "    root.right = TreeNode(8)\n",
    "    root.left.left = TreeNode(2)\n",
    "    root.left.right = TreeNode(4)\n",
    "    root.right.left = TreeNode(7)\n",
    "    root.right.right = TreeNode(9)\n",
    "\n",
    "    tree_height = height_of_tree(root)\n",
    "    print(\"Height of the tree:\", tree_height)\n"
   ]
  },
  {
   "cell_type": "markdown",
   "metadata": {},
   "source": [
    "3.Perform Pre-order, Post-order, In-order traversal"
   ]
  },
  {
   "cell_type": "code",
   "execution_count": 8,
   "metadata": {},
   "outputs": [
    {
     "name": "stdout",
     "output_type": "stream",
     "text": [
      "Pre-order Traversal:\n",
      "5 3 2 4 8 7 9 \n",
      "\n",
      "In-order Traversal:\n",
      "2 3 4 5 7 8 9 \n",
      "\n",
      "Post-order Traversal:\n",
      "2 4 3 7 9 8 5 \n",
      "\n"
     ]
    }
   ],
   "source": [
    "class TreeNode:\n",
    "    def __init__(self, key):\n",
    "        self.key = key\n",
    "        self.left = None\n",
    "        self.right = None\n",
    "\n",
    "def pre_order_traversal(root):\n",
    "    \n",
    "    if root is not None:\n",
    "        print(root.key, end=\" \")\n",
    "        pre_order_traversal(root.left)\n",
    "        pre_order_traversal(root.right)\n",
    "\n",
    "def in_order_traversal(root):\n",
    "  \n",
    "    if root is not None:\n",
    "        in_order_traversal(root.left)\n",
    "        print(root.key, end=\" \")\n",
    "        in_order_traversal(root.right)\n",
    "\n",
    "def post_order_traversal(root):\n",
    "   \n",
    "    if root is not None:\n",
    "        post_order_traversal(root.left)\n",
    "        post_order_traversal(root.right)\n",
    "        print(root.key, end=\" \")\n",
    "if __name__ == \"__main__\":\n",
    " \n",
    "    root = TreeNode(5)\n",
    "    root.left = TreeNode(3)\n",
    "    root.right = TreeNode(8)\n",
    "    root.left.left = TreeNode(2)\n",
    "    root.left.right = TreeNode(4)\n",
    "    root.right.left = TreeNode(7)\n",
    "    root.right.right = TreeNode(9)\n",
    "\n",
    "    print(\"Pre-order Traversal:\")\n",
    "    pre_order_traversal(root)\n",
    "    print(\"\\n\")\n",
    "\n",
    "    print(\"In-order Traversal:\")\n",
    "    in_order_traversal(root)\n",
    "    print(\"\\n\")\n",
    "\n",
    "    print(\"Post-order Traversal:\")\n",
    "    post_order_traversal(root)\n",
    "    print(\"\\n\")\n"
   ]
  },
  {
   "cell_type": "markdown",
   "metadata": {},
   "source": [
    "4.Function to print all the leaves in a given binary tree"
   ]
  },
  {
   "cell_type": "code",
   "execution_count": 9,
   "metadata": {},
   "outputs": [
    {
     "name": "stdout",
     "output_type": "stream",
     "text": [
      "Leaves of the binary tree:\n",
      "4\n",
      "5\n",
      "6\n",
      "7\n"
     ]
    }
   ],
   "source": [
    "class TreeNode:\n",
    "    def __init__(self, value):\n",
    "        self.value = value\n",
    "        self.left = None\n",
    "        self.right = None\n",
    "\n",
    "def print_leaves(root):\n",
    "    if root is None:\n",
    "        return\n",
    "\n",
    "    if root.left is None and root.right is None:\n",
    "        print(root.value)\n",
    "\n",
    "    print_leaves(root.left)\n",
    "    print_leaves(root.right)\n",
    "\n",
    "root = TreeNode(1)\n",
    "root.left = TreeNode(2)\n",
    "root.right = TreeNode(3)\n",
    "root.left.left = TreeNode(4)\n",
    "root.left.right = TreeNode(5)\n",
    "root.right.left = TreeNode(6)\n",
    "root.right.right = TreeNode(7)\n",
    "\n",
    "print(\"Leaves of the binary tree:\")\n",
    "print_leaves(root)\n"
   ]
  },
  {
   "cell_type": "markdown",
   "metadata": {},
   "source": [
    "5.Implement BFS (Breath First Search) and DFS (Depth First Search)"
   ]
  },
  {
   "cell_type": "code",
   "execution_count": 10,
   "metadata": {},
   "outputs": [
    {
     "name": "stdout",
     "output_type": "stream",
     "text": [
      "BFS traversal:\n",
      "1\n",
      "2\n",
      "3\n",
      "4\n",
      "5\n",
      "6\n",
      "7\n",
      "DFS (In-order) traversal:\n",
      "4\n",
      "2\n",
      "5\n",
      "1\n",
      "6\n",
      "3\n",
      "7\n",
      "DFS (Pre-order) traversal:\n",
      "1\n",
      "2\n",
      "4\n",
      "5\n",
      "3\n",
      "6\n",
      "7\n",
      "DFS (Post-order) traversal:\n",
      "4\n",
      "5\n",
      "2\n",
      "6\n",
      "7\n",
      "3\n",
      "1\n"
     ]
    }
   ],
   "source": [
    "class TreeNode:\n",
    "    def __init__(self, value):\n",
    "        self.value = value\n",
    "        self.left = None\n",
    "        self.right = None\n",
    "\n",
    "def bfs(root):\n",
    "    if root is None:\n",
    "        return\n",
    "\n",
    "    queue = [root]\n",
    "    while queue:\n",
    "        node = queue.pop(0)\n",
    "        print(node.value)\n",
    "\n",
    "        if node.left:\n",
    "            queue.append(node.left)\n",
    "        if node.right:\n",
    "            queue.append(node.right)\n",
    "def dfs_in_order(root):\n",
    "    if root is None:\n",
    "        return\n",
    "\n",
    "    dfs_in_order(root.left)\n",
    "    print(root.value)\n",
    "    dfs_in_order(root.right)\n",
    "def dfs_pre_order(root):\n",
    "    if root is None:\n",
    "        return\n",
    "\n",
    "    print(root.value)\n",
    "    dfs_pre_order(root.left)\n",
    "    dfs_pre_order(root.right)\n",
    "\n",
    "def dfs_post_order(root):\n",
    "    if root is None:\n",
    "        return\n",
    "\n",
    "    dfs_post_order(root.left)\n",
    "    dfs_post_order(root.right)\n",
    "    print(root.value)\n",
    "\n",
    "root = TreeNode(1)\n",
    "root.left = TreeNode(2)\n",
    "root.right = TreeNode(3)\n",
    "root.left.left = TreeNode(4)\n",
    "root.left.right = TreeNode(5)\n",
    "root.right.left = TreeNode(6)\n",
    "root.right.right = TreeNode(7)\n",
    "\n",
    "print(\"BFS traversal:\")\n",
    "bfs(root)\n",
    "\n",
    "print(\"DFS (In-order) traversal:\")\n",
    "dfs_in_order(root)\n",
    "\n",
    "print(\"DFS (Pre-order) traversal:\")\n",
    "dfs_pre_order(root)\n",
    "\n",
    "print(\"DFS (Post-order) traversal:\")\n",
    "dfs_post_order(root)\n"
   ]
  },
  {
   "cell_type": "markdown",
   "metadata": {},
   "source": [
    "6.Find sum of all left leaves in a given Binary Tree"
   ]
  },
  {
   "cell_type": "code",
   "execution_count": 12,
   "metadata": {},
   "outputs": [
    {
     "name": "stdout",
     "output_type": "stream",
     "text": [
      "Sum of all left leaves in the binary tree: 10\n"
     ]
    }
   ],
   "source": [
    "class TreeNode:\n",
    "    def __init__(self, value):\n",
    "        self.value = value\n",
    "        self.left = None\n",
    "        self.right = None\n",
    "\n",
    "def sum_of_left_leaves(root):\n",
    "    def is_leaf(node):\n",
    "        return node is not None and node.left is None and node.right is None\n",
    "\n",
    "    if root is None:\n",
    "        return 0\n",
    "\n",
    "    left_sum = 0\n",
    "    if is_leaf(root.left):\n",
    "        left_sum += root.left.value\n",
    "    else:\n",
    "        left_sum += sum_of_left_leaves(root.left)\n",
    "\n",
    "    left_sum += sum_of_left_leaves(root.right)\n",
    "    return left_sum\n",
    "\n",
    "root = TreeNode(1)\n",
    "root.left = TreeNode(2)\n",
    "root.right = TreeNode(3)\n",
    "root.left.left = TreeNode(4)\n",
    "root.left.right = TreeNode(5)\n",
    "root.right.left = TreeNode(6)\n",
    "root.right.right = TreeNode(7)\n",
    "\n",
    "print(\"Sum of all left leaves in the binary tree:\", sum_of_left_leaves(root))\n"
   ]
  },
  {
   "cell_type": "markdown",
   "metadata": {},
   "source": [
    "7.Find sum of all nodes of the given perfect binary tree"
   ]
  },
  {
   "cell_type": "code",
   "execution_count": 13,
   "metadata": {},
   "outputs": [
    {
     "name": "stdout",
     "output_type": "stream",
     "text": [
      "Sum of all nodes in the perfect binary tree: 15\n"
     ]
    }
   ],
   "source": [
    "def sum_of_perfect_binary_tree(height):\n",
    "    total_nodes = 2**(height + 1) - 1\n",
    "    return total_nodes\n",
    "\n",
    "height_of_tree = 3\n",
    "total_sum = sum_of_perfect_binary_tree(height_of_tree)\n",
    "print(\"Sum of all nodes in the perfect binary tree:\", total_sum)\n"
   ]
  },
  {
   "cell_type": "markdown",
   "metadata": {},
   "source": [
    "8.Count subtress that sum up to a given value x in a binary tree"
   ]
  },
  {
   "cell_type": "code",
   "execution_count": 14,
   "metadata": {},
   "outputs": [
    {
     "name": "stdout",
     "output_type": "stream",
     "text": [
      "Number of subtrees with sum equal to 8 : 1\n"
     ]
    }
   ],
   "source": [
    "class TreeNode:\n",
    "    def __init__(self, value):\n",
    "        self.value = value\n",
    "        self.left = None\n",
    "        self.right = None\n",
    "\n",
    "def count_subtrees_with_sum(root, target_sum):\n",
    "    def dfs_count_subtrees(node, target_sum):\n",
    "        if node is None:\n",
    "            return 0\n",
    "\n",
    "        left_sum = dfs_count_subtrees(node.left, target_sum)\n",
    "        right_sum = dfs_count_subtrees(node.right, target_sum)\n",
    "\n",
    "        current_sum = node.value + left_sum + right_sum\n",
    "\n",
    "        if current_sum == target_sum:\n",
    "            count_subtrees_with_sum.count += 1\n",
    "\n",
    "        return current_sum\n",
    "\n",
    "    count_subtrees_with_sum.count = 0\n",
    "\n",
    "    dfs_count_subtrees(root, target_sum)\n",
    "\n",
    "    return count_subtrees_with_sum.count\n",
    "\n",
    "root = TreeNode(10)\n",
    "root.left = TreeNode(5)\n",
    "root.right = TreeNode(-3)\n",
    "root.left.left = TreeNode(3)\n",
    "root.left.right = TreeNode(2)\n",
    "root.right.right = TreeNode(11)\n",
    "root.left.left.left = TreeNode(3)\n",
    "root.left.left.right = TreeNode(-2)\n",
    "root.left.right.right = TreeNode(1)\n",
    "\n",
    "target_sum = 8\n",
    "print(\"Number of subtrees with sum equal to\", target_sum, \":\", count_subtrees_with_sum(root, target_sum))\n"
   ]
  },
  {
   "cell_type": "markdown",
   "metadata": {},
   "source": [
    "9.Find maximum level sum in Binary Tree"
   ]
  },
  {
   "cell_type": "code",
   "execution_count": 15,
   "metadata": {},
   "outputs": [
    {
     "name": "stdout",
     "output_type": "stream",
     "text": [
      "Maximum level sum in the binary tree: 17\n"
     ]
    }
   ],
   "source": [
    "from collections import deque\n",
    "\n",
    "class TreeNode:\n",
    "    def __init__(self, value):\n",
    "        self.value = value\n",
    "        self.left = None\n",
    "        self.right = None\n",
    "\n",
    "def max_level_sum(root):\n",
    "    if root is None:\n",
    "        return 0\n",
    "\n",
    "    max_sum = root.value\n",
    "    queue = deque([root])\n",
    "\n",
    "    while queue:\n",
    "        level_size = len(queue)\n",
    "        level_sum = 0\n",
    "\n",
    "        for _ in range(level_size):\n",
    "            node = queue.popleft()\n",
    "            level_sum += node.value\n",
    "\n",
    "            if node.left:\n",
    "                queue.append(node.left)\n",
    "            if node.right:\n",
    "                queue.append(node.right)\n",
    "\n",
    "        max_sum = max(max_sum, level_sum)\n",
    "\n",
    "    return max_sum\n",
    "\n",
    "root = TreeNode(1)\n",
    "root.left = TreeNode(2)\n",
    "root.right = TreeNode(3)\n",
    "root.left.left = TreeNode(4)\n",
    "root.left.right = TreeNode(5)\n",
    "root.right.right = TreeNode(8)\n",
    "root.right.right.left = TreeNode(6)\n",
    "root.right.right.right = TreeNode(7)\n",
    "\n",
    "print(\"Maximum level sum in the binary tree:\", max_level_sum(root))\n"
   ]
  },
  {
   "cell_type": "markdown",
   "metadata": {},
   "source": [
    "10.Print the nodes at odd levels of a tree"
   ]
  },
  {
   "cell_type": "code",
   "execution_count": null,
   "metadata": {},
   "outputs": [],
   "source": [
    "class TreeNode:\n",
    "    def __init__(self, value):\n",
    "        self.value = value\n",
    "        self.left = None\n",
    "        self.right = None\n",
    "\n",
    "def print_nodes_at_odd_levels(root):\n",
    "    def pre_order_traversal(node, level):\n",
    "        if node is None:\n",
    "            return\n",
    "\n",
    "        if level % 2 != 0:\n",
    "            print(node.value)\n",
    "\n",
    "        pre_order_traversal(node.left, level + 1)\n",
    "        pre_order_traversal(node.right, level + 1)\n",
    "\n",
    "    pre_order_traversal(root, 1)\n",
    "\n",
    "root = TreeNode(1)\n",
    "root.left = TreeNode(2)\n",
    "root.right = TreeNode(3)\n",
    "root.left.left = TreeNode(4)\n",
    "root.left.right = TreeNode(5)\n",
    "root.right.left = TreeNode(6)\n",
    "root.right.right = TreeNode(7)\n",
    "\n",
    "print(\"Nodes at odd levels in the binary tree:\")\n",
    "print_nodes_at_odd_levels(root)\n"
   ]
  }
 ],
 "metadata": {
  "kernelspec": {
   "display_name": "Python 3",
   "language": "python",
   "name": "python3"
  },
  "language_info": {
   "codemirror_mode": {
    "name": "ipython",
    "version": 3
   },
   "file_extension": ".py",
   "mimetype": "text/x-python",
   "name": "python",
   "nbconvert_exporter": "python",
   "pygments_lexer": "ipython3",
   "version": "3.11.4"
  },
  "orig_nbformat": 4
 },
 "nbformat": 4,
 "nbformat_minor": 2
}
